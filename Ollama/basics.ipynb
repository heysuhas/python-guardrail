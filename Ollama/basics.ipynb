{
 "cells": [
  {
   "cell_type": "code",
   "execution_count": null,
   "id": "77b46f40",
   "metadata": {},
   "outputs": [],
   "source": [
    "import ollama"
   ]
  },
  {
   "cell_type": "markdown",
   "id": "635e915c",
   "metadata": {},
   "source": [
    "| Argument   | Type              | Description                                                      |\n",
    "| ---------- | ----------------- | ---------------------------------------------------------------- |\n",
    "| `model`    | `str`             | The name of the model you want to use (e.g., `\"llama3\"`).        |\n",
    "| `messages` | `list`            | A list of message **dictionaries** that simulate a conversation. |\n",
    "| `stream`   | `bool` (optional) | Whether to stream the output (default is usually `False`).       |\n",
    "| `options`  | `dict` (optional) | Extra model options like temperature, top\\_p, seed, etc.         |\n"
   ]
  }
 ],
 "metadata": {
  "kernelspec": {
   "display_name": "Python 3",
   "language": "python",
   "name": "python3"
  },
  "language_info": {
   "name": "python",
   "version": "3.10.0"
  }
 },
 "nbformat": 4,
 "nbformat_minor": 5
}
